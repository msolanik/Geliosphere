{
 "cells": [
  {
   "cell_type": "markdown",
   "id": "a6798275",
   "metadata": {
    "_kg_hide-input": true,
    "_kg_hide-output": true
   },
   "source": [
    "# Description of Geliosphere 2D model\n",
    "\n",
    "Geliosphere 2D model is 2D model of cosmic rays modulation in heliosphere. It utilizes backward-in-time method to solve stochastic differential equations. \n",
    "\n",
    "Following code represents initial setup required for steps in this notebook:"
   ]
  },
  {
   "cell_type": "code",
   "execution_count": 1,
   "id": "b7b7c331",
   "metadata": {
    "jupyter": {
     "source_hidden": true
    },
    "tags": []
   },
   "outputs": [],
   "source": [
    "import math \n",
    "import sympy as sp\n",
    "from sympy import symbols\n",
    "from sympy import *\n",
    "from IPython.display import display, Latex, display_latex, Math\n",
    "\n",
    "Kper = symbols(\"K_{\\perp}\")\n",
    "Kpar = symbols(\"K_{\\parallel}\")\n",
    "A = symbols(\"A\")\n",
    "Gamma = symbols(\"\\Gamma\")\n",
    "r = symbols(\"r\")\n",
    "delta = symbols(\"delta\")\n",
    "theta = symbols(\"theta\")\n",
    "Krr = symbols(\"K_{rr}\")\n",
    "Omega = symbols(\"Omega\")\n",
    "V = symbols(\"V\")\n",
    "K0 = symbols(\"K_{0}\")\n",
    "beta = symbols(\"beta\")\n",
    "Br = symbols(\"B_r\")\n",
    "Btheta = symbols(\"B_{\\\\theta}\")\n",
    "Bphi = symbols(\"Bf\")\n",
    "B = symbols(\"B\")\n",
    "Be = symbols(\"B_e\")\n",
    "Ktt = symbols(\"K{\\\\theta\\\\theta}\")\n",
    "Krt = symbols(\"K_{r\\\\theta}\")\n",
    "Cb = symbols(\"C_B\")\n",
    "B11 = symbols(\"B_{11}\")\n",
    "B12 = symbols(\"B_{12}\")\n",
    "B22 = symbols(\"B_{22}\")\n",
    "B33 = symbols(\"B_{33}\")\n",
    "Ar = symbols(\"A_r\")\n",
    "Atheta = symbols(\"A_{\\\\theta}\")\n",
    "Ae = symbols(\"A_E\")\n",
    "Tkin = symbols(\"T_{kin}\")\n",
    "Rigidity = symbols(\"P\")\n",
    "COmega = symbols(\"C_{\\\\Omega]\")\n",
    "dKrrr = symbols(\"dKrrr\")\n",
    "dKperr = symbols(\"dKperr\")\n",
    "CKtt = symbols(\"C_{K\\\\theta\\\\theta}\")\n",
    "pKtt1 = symbols(\"pK_{\\\\theta\\\\theta1}\")\n",
    "pKtt2 = symbols(\"pK_{\\\\theta\\\\theta2}\")\n",
    "pKtt3 = symbols(\"pK_{\\\\theta\\\\theta3}\")\n",
    "pKtt4 = symbols(\"pK_{\\\\theta\\\\theta4}\")\n",
    "dKttt = symbols(\"dKttt\")\n",
    "dKrtr = symbols(\"dKrtr\")\n",
    "dKrtt = symbols(\"dKrtt\")\n",
    "\n",
    "# Constants\n",
    "# Some contants are duplicates, mainly for definition reasons\n",
    "r_sun = Symbol('r_sun', constant=True, number=True)\n",
    "k_rphi = Symbol('K_{r\\phi}', constant=True, number=True)\n",
    "k_rr = Symbol('K_{rr}', constant=True, number=True)\n",
    "k_phiphi = Symbol('K_{\\phi\\phi}', constant=True, number=True)\n",
    "phi = Symbol('\\phi', constant=True, number=True)\n",
    "Vsw = Symbol('V_{SW}', constant=True, number=True)\n",
    "Vds = Symbol('V_{d,s}', constant=True, number=True)\n",
    "Vdtheta = Symbol('V_{d,\\\\theta}', constant=True, number=True)\n",
    "T0 = Symbol('T_0', constant=True, number=True)\n",
    "Rd = Symbol('R_d', constant=True, number=True)\n",
    "Cdelta = Symbol('C_{\\delta}', constant=True, number=True)"
   ]
  },
  {
   "cell_type": "markdown",
   "id": "d025b34c-aad6-47ba-9254-c743806eb35b",
   "metadata": {},
   "source": [
    "The Geliosphere 2D model sets the longitudinal ϕ components of the diffusion\n",
    "tensor Krϕ, Kθϕ equal to zero and sets Kϕϕ equal to 1 to reduce the dimensionality\n",
    "of the model from three to two dimensions, i.e., neglect the helio-longitudinal\n",
    "components. This reduction changes Equations (5) of [15] to follow a 2D shape:"
   ]
  },
  {
   "cell_type": "markdown",
   "id": "716ee457-4014-4c13-bb9a-5525e0da5027",
   "metadata": {},
   "source": [
    "<a id=\"16\"></a>\n",
    "##### Equation 16:"
   ]
  },
  {
   "cell_type": "code",
   "execution_count": 2,
   "id": "fcc2dd0f-5ba3-4591-91b3-91829f18d139",
   "metadata": {
    "jupyter": {
     "source_hidden": true
    },
    "tags": []
   },
   "outputs": [
    {
     "data": {
      "text/latex": [
       "$\\displaystyle B_{11} = \\sqrt{- \\frac{- 2 K_{\\phi\\phi} K_{rr} + 2 K_{r\\phi}^{2}}{K_{\\phi\\phi}}}$"
      ],
      "text/plain": [
       "Eq(B_11, sqrt(-(-2*K_{\\phi\\phi}*K_{rr} + 2*K_{r\\phi}**2)/K_{\\phi\\phi}))"
      ]
     },
     "metadata": {},
     "output_type": "display_data"
    }
   ],
   "source": [
    "B11 = sp.sqrt((2 * (pow(k_rphi, 2) - k_rr * k_phiphi)) / (-k_phiphi))\n",
    "\n",
    "display(Eq(S('B_11'),B11))"
   ]
  },
  {
   "cell_type": "markdown",
   "id": "9d24a664-49cd-4c30-aa93-82ccdeaecd02",
   "metadata": {},
   "source": [
    "<a id=\"17\"></a>\n",
    "##### Equation 17:"
   ]
  },
  {
   "cell_type": "code",
   "execution_count": 3,
   "id": "a5536257-701d-472b-b527-4c52ee465f41",
   "metadata": {
    "jupyter": {
     "source_hidden": true
    },
    "tags": []
   },
   "outputs": [
    {
     "data": {
      "text/latex": [
       "$\\displaystyle B_{12} = \\frac{\\sqrt{2} K_{r\\phi}}{\\sqrt{K_{\\phi\\phi}}}$"
      ],
      "text/plain": [
       "Eq(B_12, sqrt(2)*K_{r\\phi}/sqrt(K_{\\phi\\phi}))"
      ]
     },
     "metadata": {},
     "output_type": "display_data"
    }
   ],
   "source": [
    "B12 = (k_rphi / k_phiphi) * sp.sqrt(2 * k_phiphi)\n",
    "\n",
    "display(Eq(S('B_12'),B12))"
   ]
  },
  {
   "cell_type": "markdown",
   "id": "4446df53-41ec-403c-a9af-a5821d90a264",
   "metadata": {},
   "source": [
    "<a id=\"18\"></a>\n",
    "##### Equation 18:"
   ]
  },
  {
   "cell_type": "code",
   "execution_count": 4,
   "id": "c2f5b62e-0600-4f03-8a44-f013d18532ec",
   "metadata": {
    "jupyter": {
     "source_hidden": true
    },
    "tags": []
   },
   "outputs": [
    {
     "data": {
      "text/latex": [
       "$\\displaystyle B_{22} = \\frac{\\sqrt{2} \\sqrt{K_{\\phi\\phi}}}{r}$"
      ],
      "text/plain": [
       "Eq(B_22, sqrt(2)*sqrt(K_{\\phi\\phi})/r)"
      ]
     },
     "metadata": {},
     "output_type": "display_data"
    }
   ],
   "source": [
    "B22 = (sp.sqrt(2 * k_phiphi) / r)\n",
    "\n",
    "display(Eq(S('B_22'),B22))"
   ]
  },
  {
   "cell_type": "markdown",
   "id": "fe405797-aa78-4c06-a648-cd628c023877",
   "metadata": {},
   "source": [
    "<a id=\"19\"></a>\n",
    "##### Equation 19:"
   ]
  },
  {
   "cell_type": "code",
   "execution_count": 5,
   "id": "3c96c64f-1163-4d15-83dd-8d2f830d43ca",
   "metadata": {
    "jupyter": {
     "source_hidden": true
    },
    "tags": []
   },
   "outputs": [
    {
     "data": {
      "text/latex": [
       "$\\displaystyle B_{33} = \\frac{\\sqrt{2}}{r \\sin{\\left(\\phi \\right)}}$"
      ],
      "text/plain": [
       "Eq(B_33, sqrt(2)/(r*sin(\\phi)))"
      ]
     },
     "metadata": {},
     "output_type": "display_data"
    }
   ],
   "source": [
    "B33 = (sp.sqrt(2) / (r * sp.sin(phi)))\n",
    "\n",
    "display(Eq(S('B_33'),B33))"
   ]
  },
  {
   "cell_type": "markdown",
   "id": "1b7378b9-e554-4ffb-9650-0d873fe25e7b",
   "metadata": {},
   "source": [
    "<a id=\"20\"></a>\n",
    "##### Equation 20:"
   ]
  },
  {
   "cell_type": "markdown",
   "id": "db294bd4-b2c0-4d12-a285-e33f1ac68d44",
   "metadata": {},
   "source": [
    "$B_{13} =  B_{21} = B_{23} = B_{31} = B_{32} = 0$"
   ]
  },
  {
   "cell_type": "markdown",
   "id": "3075fdcd-a7b8-40b3-bb59-e85e5d3f2104",
   "metadata": {},
   "source": [
    "and changes Equations (6) of [15] to:"
   ]
  },
  {
   "cell_type": "markdown",
   "id": "559312f5-2187-44ed-a5db-5e01427c70cf",
   "metadata": {
    "tags": []
   },
   "source": [
    "<a id=\"21\"></a>\n",
    "##### Equation 21:"
   ]
  },
  {
   "cell_type": "code",
   "execution_count": 6,
   "id": "48cbd6d5-816c-4809-818f-e7baa6154074",
   "metadata": {
    "jupyter": {
     "source_hidden": true
    },
    "tags": []
   },
   "outputs": [
    {
     "data": {
      "text/latex": [
       "$\\displaystyle A_{r} = - V_{SW} - V_{d,s} + \\frac{\\frac{\\partial}{\\partial \\theta} K_{r\\theta} \\sin{\\left(\\theta \\right)}}{\\sin{\\left(\\theta \\right)}} + \\frac{\\frac{\\partial}{\\partial r} K_{rr} r^{2}}{r^{2}}$"
      ],
      "text/plain": [
       "Eq(A_r, -V_{SW} - V_{d,s} + Derivative(K_{r\\theta}*sin(theta), theta)/sin(theta) + Derivative(K_{rr}*r**2, r)/r**2)"
      ]
     },
     "metadata": {},
     "output_type": "display_data"
    }
   ],
   "source": [
    "Ar = (1 / pow(r, 2)) * (sp.Derivative(pow(r, 2) * Krr,r)) + (1 / sp.sin(theta)) * (sp.Derivative(Krt * sp.sin(theta),theta)) - Vsw - Vds\n",
    "\n",
    "display(Eq(S('A_r'),Ar))"
   ]
  },
  {
   "cell_type": "markdown",
   "id": "2aff20eb-2523-4d48-8ba9-d2497ea6d52f",
   "metadata": {},
   "source": [
    "<a id=\"22\"></a>\n",
    "##### Equation 22:"
   ]
  },
  {
   "cell_type": "code",
   "execution_count": 7,
   "id": "beebe368-a3c7-411e-9e2e-89fe7da11bc2",
   "metadata": {
    "jupyter": {
     "source_hidden": true
    },
    "tags": []
   },
   "outputs": [
    {
     "data": {
      "text/latex": [
       "$\\displaystyle A_{\\theta} = - \\frac{V_{d,\\theta}}{r} + \\frac{\\frac{\\partial}{\\partial r} K_{r\\theta} r^{2}}{r^{2}} + \\frac{\\frac{\\partial}{\\partial \\theta} K{\\theta\\theta} \\sin{\\left(\\theta \\right)}}{r^{2} \\sin{\\left(\\theta \\right)}}$"
      ],
      "text/plain": [
       "Eq(A_theta, -V_{d,\\theta}/r + Derivative(K_{r\\theta}*r**2, r)/r**2 + Derivative(K{\\theta\\theta}*sin(theta), theta)/(r**2*sin(theta)))"
      ]
     },
     "metadata": {},
     "output_type": "display_data"
    }
   ],
   "source": [
    "Atheta = (1 / pow(r, 2)) * (sp.Derivative(pow(r, 2) * Krt,r)) + (1 / (pow(r, 2) * sp.sin(theta))) * (sp.Derivative(Ktt * sp.sin(theta),theta)) - (Vdtheta / r)\n",
    "\n",
    "display(Eq(S('A_theta'),Atheta))"
   ]
  },
  {
   "cell_type": "markdown",
   "id": "af786367-2d0f-4e6c-8cd7-3629e4bbed90",
   "metadata": {},
   "source": [
    "<a id=\"23\"></a>\n",
    "##### Equation 23:"
   ]
  },
  {
   "cell_type": "code",
   "execution_count": 8,
   "id": "76dfe747-f622-45ee-af78-785c5d6390ad",
   "metadata": {
    "jupyter": {
     "source_hidden": true
    },
    "tags": []
   },
   "outputs": [
    {
     "data": {
      "text/latex": [
       "$\\displaystyle A_{E} = \\frac{T_{kin} \\left(2 T_{0} + T_{kin}\\right) \\frac{\\partial}{\\partial r} V_{SW} r^{2}}{3 r^{2} \\left(T_{0} + T_{kin}\\right)}$"
      ],
      "text/plain": [
       "Eq(A_E, T_{kin}*(2*T_0 + T_{kin})*Derivative(V_{SW}*r**2, r)/(3*r**2*(T_0 + T_{kin})))"
      ]
     },
     "metadata": {},
     "output_type": "display_data"
    }
   ],
   "source": [
    "Ae = (1 / (3 * pow(r, 2))) * (sp.Derivative(pow(r, 2) * Vsw,r)) * (((Tkin + 2 * T0) / (Tkin + T0)) * Tkin)\n",
    "\n",
    "display(Eq(S('A_E'),Ae))"
   ]
  },
  {
   "cell_type": "markdown",
   "id": "3bb5ab4f-7d41-4784-839d-ddc5af12e58e",
   "metadata": {},
   "source": [
    "where Ar, Aθ, and AE are the advective terms from 2, Bi,j are i, j components\n",
    "of four by four matrix B from 2, Krr, Krθ, Kθθ are elements of diffusion tensor, r is\n",
    "radius, θ is heliospheric colatitude, Tkin is kinetic energy of particle and T0 is rest\n",
    "energy, VSW is solar wind velocity and Vd,s, Vd,θ are drift speeds, taken from the\n",
    "SOLARPROP Standard 2D model [6]. Note, that we use here notation 1, 2, 3 for\n",
    "r, θ, ϕ for B matrix elements, as in [15], such as B1,1 ≡ Br,r. Without polar field\n",
    "modification, i.e., with Krθ = 0, Equations 21 - 23 become Equations (16)-(18) of\n",
    "[6]."
   ]
  },
  {
   "cell_type": "markdown",
   "id": "4e409f75",
   "metadata": {},
   "source": [
    "Following substitions are used in equations contained in Geliosphere 2D model:"
   ]
  },
  {
   "cell_type": "markdown",
   "id": "e3c9dd41-b4d2-4d1d-8b1d-f6b2d59ab510",
   "metadata": {
    "tags": []
   },
   "source": [
    "<a id=\"24\"></a>\n",
    "##### Equation 24:"
   ]
  },
  {
   "cell_type": "code",
   "execution_count": 9,
   "id": "63e92469",
   "metadata": {
    "jupyter": {
     "source_hidden": true
    },
    "tags": []
   },
   "outputs": [
    {
     "data": {
      "text/latex": [
       "$\\displaystyle \\Gamma = \\frac{\\Omega r \\sin{\\left(\\theta \\right)}}{V}$"
      ],
      "text/plain": [
       "Eq(Gamma, Omega*r*sin(theta)/V)"
      ]
     },
     "metadata": {},
     "output_type": "display_data"
    }
   ],
   "source": [
    "Gamma = (r*Omega*sp.sin(theta))/V\n",
    "\n",
    "display(Eq(S('Gamma'),Gamma))"
   ]
  },
  {
   "cell_type": "markdown",
   "id": "f71077a6-a455-46cb-8d96-cc5eeb719120",
   "metadata": {},
   "source": [
    "<a id=\"25\"></a>\n",
    "##### Equation 25:"
   ]
  },
  {
   "cell_type": "code",
   "execution_count": 10,
   "id": "ae9ad65d",
   "metadata": {
    "_kg_hide-input": true,
    "jupyter": {
     "source_hidden": true
    },
    "tags": []
   },
   "outputs": [
    {
     "data": {
      "text/latex": [
       "$\\displaystyle \\delta = \\begin{cases} 0.003 & \\text{for}\\: \\theta > 178.3 \\wedge \\theta < 1.7 \\\\\\frac{8.7 \\cdot 10^{-5}}{\\sin{\\left(\\theta \\right)}} & \\text{otherwise} \\end{cases}$"
      ],
      "text/plain": [
       "Eq(delta, Piecewise((0.003, (theta > 178.3) & (theta < 1.7)), (8.7e-5/sin(theta), True)))"
      ]
     },
     "metadata": {},
     "output_type": "display_data"
    }
   ],
   "source": [
    "delta = Piecewise((0.003, And(theta < 1.7, theta > 178.3)), ((8.7 * pow(10, -5))/sp.sin(theta), True))\n",
    "\n",
    "display(Eq(S('delta'),delta))"
   ]
  },
  {
   "cell_type": "markdown",
   "id": "d8daf9a9-d497-493c-860e-f9884c8c26cb",
   "metadata": {
    "tags": []
   },
   "source": [
    "<a id=\"26\"></a>\n",
    "##### Equation 26:"
   ]
  },
  {
   "cell_type": "code",
   "execution_count": 11,
   "id": "fe0e70e1-d289-4fda-b16f-d42a7c756daa",
   "metadata": {
    "jupyter": {
     "source_hidden": true
    },
    "tags": []
   },
   "outputs": [
    {
     "data": {
      "text/latex": [
       "$\\displaystyle C_{B} = \\Gamma^{2} + \\frac{\\delta r}{r_{sun}} + 1$"
      ],
      "text/plain": [
       "Eq(C_B, Gamma**2 + delta*r/r_sun + 1)"
      ]
     },
     "metadata": {},
     "output_type": "display_data"
    }
   ],
   "source": [
    "Cb = 1 + pow(S('Gamma'), 2) + (r * S('delta') / r_sun)\n",
    "\n",
    "display(Eq(S('C_B'),Cb))"
   ]
  },
  {
   "cell_type": "markdown",
   "id": "8ce2d71b-723d-435a-a1d4-53522d71f410",
   "metadata": {},
   "source": [
    "With polar field modification, diffusion tensor components Krr, Kθθ, and Krθ\n",
    "have the following form"
   ]
  },
  {
   "cell_type": "markdown",
   "id": "ca5c75bd-5de4-4b70-a6fe-825770e5f92b",
   "metadata": {},
   "source": [
    "<a id=\"27\"></a>\n",
    "##### Equation 27:"
   ]
  },
  {
   "cell_type": "code",
   "execution_count": 12,
   "id": "452d4e91-b4ba-49a7-a787-c128a9a857a1",
   "metadata": {
    "jupyter": {
     "source_hidden": true
    },
    "tags": []
   },
   "outputs": [
    {
     "data": {
      "text/latex": [
       "$\\displaystyle K_{rr} = K_{\\perp} + \\frac{B_{r}^{2} \\left(K_{\\parallel} - K_{\\perp}\\right)}{B^{2}} = K_{\\perp} + \\frac{K_{\\parallel} - K_{\\perp}}{C_{B}}$"
      ],
      "text/plain": [
       "Eq(K_rr, Eq(K_{\\perp} + B_r**2*(K_{\\parallel} - K_{\\perp})/B**2, K_{\\perp} + (K_{\\parallel} - K_{\\perp})/C_B))"
      ]
     },
     "metadata": {},
     "output_type": "display_data"
    }
   ],
   "source": [
    "Krr = Kper + (Kpar - Kper) * (pow(Br, 2) / pow(B, 2))\n",
    "Krr_tmp = symbols(\"KrrTemp\")\n",
    "\n",
    "Krr_tmp = Kper + (Kpar - Kper) / S('C_B')\n",
    "\n",
    "display(Eq(S('K_rr'),Eq(Krr, Krr_tmp, evaluate=False)))"
   ]
  },
  {
   "cell_type": "markdown",
   "id": "b5399208-9f2c-4a56-97b4-c42d6e4897fe",
   "metadata": {},
   "source": [
    "<a id=\"28\"></a>\n",
    "##### Equation 28:"
   ]
  },
  {
   "cell_type": "code",
   "execution_count": 13,
   "id": "c8c12773-0fb7-4755-8473-8f43f7206984",
   "metadata": {
    "jupyter": {
     "source_hidden": true
    },
    "tags": []
   },
   "outputs": [
    {
     "data": {
      "text/latex": [
       "$\\displaystyle K_{θθ} = K_{\\perp} + \\frac{B_{\\theta}^{2} \\left(K_{\\parallel} - K_{\\perp}\\right)}{B^{2}} = K_{\\perp} + \\frac{\\delta^{2} r^{2} \\left(K_{\\parallel} - K_{\\perp}\\right)}{C_{B} r_{sun}^{2}}$"
      ],
      "text/plain": [
       "Eq(K_θθ, Eq(K_{\\perp} + B_{\\theta}**2*(K_{\\parallel} - K_{\\perp})/B**2, K_{\\perp} + delta**2*r**2*(K_{\\parallel} - K_{\\perp})/(C_B*r_sun**2)))"
      ]
     },
     "metadata": {},
     "output_type": "display_data"
    }
   ],
   "source": [
    "Ktt = Kper + (Kpar - Kper) * (pow(Btheta, 2) / pow(B, 2))\n",
    "Ktt_tmp = symbols(\"KttTemp\")\n",
    "\n",
    "Ktt_tmp = Kper + (Kpar - Kper) * ((pow(r, 2) * pow(S('delta'), 2) / (pow(r_sun, 2) * S('C_B'))))\n",
    "\n",
    "display(Eq(Symbol('K_θθ'),Eq(Ktt, Ktt_tmp, evaluate=False)))"
   ]
  },
  {
   "cell_type": "markdown",
   "id": "ea5df0a7-ce80-42e8-857e-be18046e1686",
   "metadata": {},
   "source": [
    "<a id=\"29\"></a>\n",
    "##### Equation 29:"
   ]
  },
  {
   "cell_type": "code",
   "execution_count": 14,
   "id": "f0807a8b-4a3c-41c5-89f3-61fcdf90de97",
   "metadata": {
    "jupyter": {
     "source_hidden": true
    },
    "tags": []
   },
   "outputs": [
    {
     "data": {
      "text/latex": [
       "$\\displaystyle K_{rθ} = \\frac{B_{r} B_{\\theta} \\left(K_{\\parallel} - K_{\\perp}\\right)}{B^{2}} = K_{\\perp} + \\frac{\\delta r \\left(K_{\\parallel} - K_{\\perp}\\right)}{C_{B} r_{sun}}$"
      ],
      "text/plain": [
       "Eq(K_rθ, Eq(B_r*B_{\\theta}*(K_{\\parallel} - K_{\\perp})/B**2, K_{\\perp} + delta*r*(K_{\\parallel} - K_{\\perp})/(C_B*r_sun)))"
      ]
     },
     "metadata": {},
     "output_type": "display_data"
    }
   ],
   "source": [
    "Krt = (Kpar - Kper) * (Br * Btheta / pow(B, 2))\n",
    "Krt_tmp = symbols(\"KrtTemp\")\n",
    "\n",
    "Krt_tmp = Kper + (Kpar - Kper) * ((r * S('delta')) / (r_sun * S('C_B')))\n",
    "\n",
    "display(Eq(Symbol('K_rθ'),Eq(Krt, Krt_tmp, evaluate=False)))"
   ]
  },
  {
   "cell_type": "markdown",
   "id": "85bbeb44",
   "metadata": {},
   "source": [
    "where Br and Bθ are components of modified Parker’s magnetic field B"
   ]
  },
  {
   "cell_type": "markdown",
   "id": "8dde5124-b622-4281-ab84-91309d3777c8",
   "metadata": {},
   "source": [
    "<a id=\"30\"></a>\n",
    "##### Equation 30:"
   ]
  },
  {
   "cell_type": "code",
   "execution_count": 15,
   "id": "b377c332-5e04-4373-bbef-f9cd83f7e1a9",
   "metadata": {
    "jupyter": {
     "source_hidden": true
    },
    "tags": []
   },
   "outputs": [
    {
     "data": {
      "text/latex": [
       "$\\displaystyle B_{r} = \\frac{A}{r^{2}}$"
      ],
      "text/plain": [
       "Eq(B_r, A/r**2)"
      ]
     },
     "metadata": {},
     "output_type": "display_data"
    },
    {
     "data": {
      "text/latex": [
       "$\\displaystyle B_{θ} = \\frac{A \\delta}{r r_{sun}}$"
      ],
      "text/plain": [
       "Eq(B_θ, A*delta/(r*r_sun))"
      ]
     },
     "metadata": {},
     "output_type": "display_data"
    },
    {
     "data": {
      "text/latex": [
       "$\\displaystyle B = \\frac{\\sqrt{\\Gamma^{2} + \\frac{\\delta^{2} r^{2}}{r_{sun}^{2}} + 1} \\left|{A}\\right|}{r^{2}}$"
      ],
      "text/plain": [
       "Eq(B, sqrt(Gamma**2 + delta**2*r**2/r_sun**2 + 1)*Abs(A)/r**2)"
      ]
     },
     "metadata": {},
     "output_type": "display_data"
    }
   ],
   "source": [
    "Br = A / pow(r, 2)\n",
    "\n",
    "display(Eq(Symbol('B_r'), Br))\n",
    "\n",
    "Btheta = (A / (r * r_sun)) * S('delta')\n",
    "\n",
    "display(Eq(Symbol('B_θ'), Btheta))\n",
    "\n",
    "B = abs(A) / pow(r, 2) * sp.sqrt(1 + pow(S('Gamma'), 2) + pow((r * S('delta')) / r_sun, 2))\n",
    "\n",
    "display(Eq(Symbol('B'), B))"
   ]
  },
  {
   "cell_type": "markdown",
   "id": "f7b79323-cc33-4126-a5d0-e0e66eb95073",
   "metadata": {},
   "source": [
    "A is constant (equal ≈ ±3.4nT AU2) scaling heliospheric magnetic field at Earth’s position to be equal ≈ 5nT, and rSun is the radius of the Sun, where:"
   ]
  },
  {
   "cell_type": "markdown",
   "id": "addf015b-48ce-4063-b0af-402b386e3b03",
   "metadata": {},
   "source": [
    "<a id=\"31\"></a>\n",
    "##### Equation 31:"
   ]
  },
  {
   "cell_type": "code",
   "execution_count": 16,
   "id": "c78b5cdd-f3b5-4b6d-aaa3-7721f5e606b5",
   "metadata": {
    "jupyter": {
     "source_hidden": true
    },
    "tags": []
   },
   "outputs": [
    {
     "data": {
      "text/latex": [
       "$\\displaystyle \\Gamma = \\frac{\\Omega r \\sin{\\left(\\theta \\right)}}{V}$"
      ],
      "text/plain": [
       "Eq(Gamma, Omega*r*sin(theta)/V)"
      ]
     },
     "metadata": {},
     "output_type": "display_data"
    },
    {
     "data": {
      "text/latex": [
       "$\\displaystyle \\delta = \\begin{cases} 0.003 & \\text{for}\\: \\theta > 178.3 \\wedge \\theta < 1.7 \\\\\\frac{8.7 \\cdot 10^{-5}}{\\sin{\\left(\\theta \\right)}} & \\text{otherwise} \\end{cases}$"
      ],
      "text/plain": [
       "Eq(delta, Piecewise((0.003, (theta > 178.3) & (theta < 1.7)), (8.7e-5/sin(theta), True)))"
      ]
     },
     "metadata": {},
     "output_type": "display_data"
    }
   ],
   "source": [
    "display(Eq(S('Gamma'),Gamma))\n",
    "display(Eq(S('delta'),delta))"
   ]
  },
  {
   "cell_type": "markdown",
   "id": "70e3320a-b6e7-4cc3-8c97-ca4311da497f",
   "metadata": {},
   "source": [
    "where the polar field correction δ near poles (colatitude θ < 1.7\n",
    "·and θ > 178.3\n",
    "·\n",
    ")\n",
    "is equal 0.003 [27], K∥\n",
    "is the parallel diffusion component with respect to the\n",
    "magnetic field, and K⊥ is the perpendicular component,"
   ]
  },
  {
   "cell_type": "markdown",
   "id": "23838479-f278-460f-9c98-75ff4d5ca556",
   "metadata": {},
   "source": [
    "<a id=\"32\"></a>\n",
    "##### Equation 32:"
   ]
  },
  {
   "cell_type": "code",
   "execution_count": 17,
   "id": "2f86435c-09eb-425e-9ad2-21e73250fb24",
   "metadata": {
    "jupyter": {
     "source_hidden": true
    },
    "tags": []
   },
   "outputs": [
    {
     "data": {
      "text/latex": [
       "$\\displaystyle K_{\\parallel} = \\frac{B_{e} K_{0} P \\beta}{3 B} = \\begin{cases} \\frac{B_{e} K_{0} P \\beta r^{2}}{3 \\sqrt{C_{B}} \\left|{A}\\right|} & \\text{for}\\: P \\geq 0.1 \\\\\\frac{0.0333333333333333 B_{e} K_{0} \\beta r^{2}}{\\sqrt{C_{B}} \\left|{A}\\right|} & \\text{otherwise} \\end{cases}$"
      ],
      "text/plain": [
       "Eq(K_\\parallel, Eq(B_e*K_{0}*P*beta/(3*B), Piecewise((B_e*K_{0}*P*beta*r**2/(3*sqrt(C_B)*Abs(A)), P >= 0.1), (0.0333333333333333*B_e*K_{0}*beta*r**2/(sqrt(C_B)*Abs(A)), True))))"
      ]
     },
     "metadata": {},
     "output_type": "display_data"
    }
   ],
   "source": [
    "Kpar = K0 * beta * Rigidity * (Be / (3 * S('B')))\n",
    "Kpar_tmp = symbols(\"KparTemp\")\n",
    "Kpar_tmp = Piecewise(((K0 * beta * Rigidity * Be / (3 * abs(A))) * (pow(r, 2) / (sp.sqrt(S('C_B')))), Rigidity >= 0.1), ((K0 * beta * 0.1 * Be / (3 * abs(A))) * (pow(r, 2) / (sp.sqrt(S('C_B')))), True))\n",
    "\n",
    "display(Eq(Symbol('K_\\parallel'),Eq(Kpar,Kpar_tmp, evaluate=False)))"
   ]
  },
  {
   "cell_type": "markdown",
   "id": "140dfaa6-13ac-4c89-9f1f-4bc0d74d93b9",
   "metadata": {},
   "source": [
    "<a id=\"33\"></a>\n",
    "##### Equation 33:"
   ]
  },
  {
   "cell_type": "code",
   "execution_count": 18,
   "id": "6a4ee304-bf51-4498-aa2c-2c881de5eb2a",
   "metadata": {
    "jupyter": {
     "source_hidden": true
    },
    "tags": []
   },
   "outputs": [
    {
     "data": {
      "text/latex": [
       "$\\displaystyle K_{\\perp} = K_{\\parallel} R_{d}$"
      ],
      "text/plain": [
       "Eq(K_\\perp, K_\\parallel*R_d)"
      ]
     },
     "metadata": {},
     "output_type": "display_data"
    }
   ],
   "source": [
    "Kper = Rd * Symbol('K_\\parallel')\n",
    "\n",
    "display(Eq(Symbol('K_\\perp'), Kper, evaluate=False))"
   ]
  },
  {
   "cell_type": "markdown",
   "id": "eb379a53-d434-43f1-ae6f-14ca9e31558d",
   "metadata": {},
   "source": [
    "where K0 is the diffusion coefficient, β is the particle velocity in speed of light\n",
    "units, P is the rigidity in gigavolts units and Be is magnetic field magnitude at the\n",
    "Earth’s orbit (≈ 5nT). Rd is the ratio of the perpendicular diffusion component\n",
    "to the parallel diffusion component.\n",
    "In ∂Krr\n",
    "∂r we use also following substitution:"
   ]
  },
  {
   "cell_type": "markdown",
   "id": "864bb775-d2c0-4512-86c7-283fe3e55270",
   "metadata": {},
   "source": [
    "<a id=\"34\"></a>\n",
    "##### Equation 34:"
   ]
  },
  {
   "cell_type": "code",
   "execution_count": 19,
   "id": "6502c821-2a69-42e1-a948-4ebe3c3cfdae",
   "metadata": {
    "jupyter": {
     "source_hidden": true
    },
    "tags": []
   },
   "outputs": [
    {
     "data": {
      "text/latex": [
       "$\\displaystyle C_{\\Omega} = \\frac{2 \\Omega^{2} r \\sin^{2}{\\left(\\theta \\right)}}{V^{2}} + \\frac{2 \\delta^{2} r}{r_{sun}^{2}}$"
      ],
      "text/plain": [
       "Eq(C_\\Omega, 2*Omega**2*r*sin(theta)**2/V**2 + 2*delta**2*r/r_sun**2)"
      ]
     },
     "metadata": {},
     "output_type": "display_data"
    }
   ],
   "source": [
    "COmega = (2 * r * pow(Omega,2) * pow(sp.sin(theta),2)) / pow(V, 2) + (2 * r * pow(S('delta'), 2)) / pow(r_sun, 2)\n",
    "\n",
    "display(Eq(Symbol('C_\\Omega'), COmega, evaluate=False))"
   ]
  },
  {
   "cell_type": "markdown",
   "id": "33b6c245-a42e-44b4-af74-3b9249c38237",
   "metadata": {},
   "source": [
    "The derivatives of the diffusion tensor components used in Equations 21 - 23\n",
    "are expressed as follows. Starting with ∂Krr\n",
    "∂r , which is then"
   ]
  },
  {
   "cell_type": "markdown",
   "id": "c83f2cbe-d39c-4fd9-9f96-75db3f2ff4bd",
   "metadata": {
    "tags": []
   },
   "source": [
    "<a id=\"35\"></a>\n",
    "##### Equation 35:"
   ]
  },
  {
   "cell_type": "code",
   "execution_count": 20,
   "id": "f907533a-56e2-428d-93a8-da15a92019ac",
   "metadata": {
    "jupyter": {
     "source_hidden": true
    },
    "tags": []
   },
   "outputs": [
    {
     "data": {
      "text/latex": [
       "$\\displaystyle \\frac{∂K_{rr}}{∂r} = \\frac{B_{e} K_{0} P \\beta \\left(1 - R_{d}\\right) \\left(- \\frac{3 C_{B}^{0.5} C_{\\Omega} r^{2}}{2} + 2 C_{B}^{1.5} r\\right)}{3 C_{B}^{3} \\left|{A}\\right|} + \\frac{∂K_{\\perp}}{∂r}$"
      ],
      "text/plain": [
       "Eq(\\frac{∂K_{rr}}{∂r}, B_e*K_{0}*P*beta*(1 - R_d)*(-3*C_B**0.5*C_Omega*r**2/2 + 2*C_B**1.5*r)/(3*C_B**3*Abs(A)) + \\frac{∂K_{\\perp}}{∂r})"
      ]
     },
     "metadata": {},
     "output_type": "display_data"
    }
   ],
   "source": [
    "dKrrr = Symbol('\\\\frac{∂K_{\\\\perp}}{∂r}') + (1 - Rd) * K0 * beta * Rigidity * Be * (2 * r * pow(S('C_B'), 3/2) - pow(r, 2) * S('C_Omega') * ((3 * pow(S('C_B'), 1/2)) / 2)) / (3 * abs(A) * pow(S('C_B'), 3)) \n",
    "\n",
    "display(Eq(Symbol('\\\\frac{∂K_{rr}}{∂r}'), dKrrr, evaluate=False))"
   ]
  },
  {
   "cell_type": "markdown",
   "id": "a0eea953-d399-43e1-89c2-11e6e32e392f",
   "metadata": {},
   "source": [
    "where the derivative of the perpendicular component over r is"
   ]
  },
  {
   "cell_type": "markdown",
   "id": "630f5740-5769-442a-9aa6-909f20dd16e2",
   "metadata": {},
   "source": [
    "<a id=\"36\"></a>\n",
    "##### Equation 36:"
   ]
  },
  {
   "cell_type": "code",
   "execution_count": 21,
   "id": "8fffbc2d-7163-42b9-a072-949ecae02196",
   "metadata": {
    "jupyter": {
     "source_hidden": true
    },
    "tags": []
   },
   "outputs": [
    {
     "data": {
      "text/latex": [
       "$\\displaystyle \\frac{∂K_{\\perp}}{∂r} = \\frac{B_{e} K_{0} P R_{d} \\beta \\left(- \\frac{C_{\\Omega} r^{2}}{2 C_{B}^{0.5}} + 2 C_{B}^{0.5} r\\right)}{3 C_{B} \\left|{A}\\right|}$"
      ],
      "text/plain": [
       "Eq(\\frac{∂K_{\\perp}}{∂r}, B_e*K_{0}*P*R_d*beta*(-C_Omega*r**2/(2*C_B**0.5) + 2*C_B**0.5*r)/(3*C_B*Abs(A)))"
      ]
     },
     "metadata": {},
     "output_type": "display_data"
    }
   ],
   "source": [
    "dKperr = Rd * K0 * beta * Rigidity * Be * (2 * r * pow(S('C_B'), 1/2) - (pow(r, 2) * S('C_Omega'))/(2 * pow(S('C_B'), 1/2))) / (3 * abs(A) * S('C_B'))\n",
    "\n",
    "display(Eq(Symbol('\\\\frac{∂K_{\\\\perp}}{∂r}'), dKperr, evaluate=False))"
   ]
  },
  {
   "cell_type": "markdown",
   "id": "80707ca2-1620-4815-91e4-0ed3064565b1",
   "metadata": {},
   "source": [
    "In ∂Kθθ/∂θ we use in addition following substitution:"
   ]
  },
  {
   "cell_type": "markdown",
   "id": "4c93603d-2eff-4a9d-9057-ec90c9ae4ed1",
   "metadata": {},
   "source": [
    "<a id=\"37\"></a>\n",
    "##### Equation 37:"
   ]
  },
  {
   "cell_type": "code",
   "execution_count": 22,
   "id": "563a12a6-4818-426f-a5b5-279b9bd616df",
   "metadata": {
    "jupyter": {
     "source_hidden": true
    },
    "tags": []
   },
   "outputs": [
    {
     "data": {
      "text/latex": [
       "$\\displaystyle C_{K\\theta\\theta} = \\begin{cases} \\frac{\\Omega^{2} r^{2} \\sin{\\left(\\theta \\right)} \\cos{\\left(\\theta \\right)}}{V^{2}} & \\text{for}\\: \\theta > 178.3 \\wedge \\theta < 1.7 \\\\- \\frac{C_{\\delta}^{2} r^{2} \\cos{\\left(\\theta \\right)}}{r_{sun}^{2} \\sin^{3}{\\left(\\theta \\right)}} + \\frac{\\Omega^{2} r^{2} \\sin{\\left(\\theta \\right)} \\cos{\\left(\\theta \\right)}}{V^{2}} & \\text{otherwise} \\end{cases}$"
      ],
      "text/plain": [
       "Eq(C_{K\\theta\\theta}, Piecewise((Omega**2*r**2*sin(theta)*cos(theta)/V**2, (theta > 178.3) & (theta < 1.7)), (-C_{\\delta}**2*r**2*cos(theta)/(r_sun**2*sin(theta)**3) + Omega**2*r**2*sin(theta)*cos(theta)/V**2, True)))"
      ]
     },
     "metadata": {},
     "output_type": "display_data"
    }
   ],
   "source": [
    "CKtt = Piecewise((((pow(r, 2) * pow(Omega, 2)) / pow(V, 2)) * sp.sin(theta) * sp.cos(theta), And(theta < 1.7, theta > 178.3)), (((pow(r, 2) * pow(Omega, 2)) / pow(V, 2)) * sp.sin(theta) * sp.cos(theta) - ((pow(r, 2) * pow(Cdelta, 2)) / (pow(r_sun, 2))) * (sp.cos(theta) / pow(sp.sin(theta), 3)), True))\n",
    "\n",
    "display(Eq(Symbol('C_{K\\\\theta\\\\theta}'), CKtt, evaluate=False))"
   ]
  },
  {
   "cell_type": "markdown",
   "id": "15f0ed87-9e20-4823-9712-8ab7d5cf79e9",
   "metadata": {},
   "source": [
    "<a id=\"38\"></a>\n",
    "##### Equation 38:"
   ]
  },
  {
   "cell_type": "code",
   "execution_count": 23,
   "id": "590291b5-9938-49e8-934f-48932d1e6278",
   "metadata": {
    "jupyter": {
     "source_hidden": true
    },
    "tags": []
   },
   "outputs": [
    {
     "data": {
      "text/latex": [
       "$\\displaystyle pK_{\\theta\\theta1} = - \\frac{B_{e} C_{K\\theta\\theta} K_{0} P R_{d} \\beta r^{2}}{3 C_{B}^{1.5} \\left|{A}\\right|}$"
      ],
      "text/plain": [
       "Eq(pK_{\\theta\\theta1}, -B_e*C_{K\\theta\\theta}*K_{0}*P*R_d*beta*r**2/(3*C_B**1.5*Abs(A)))"
      ]
     },
     "metadata": {},
     "output_type": "display_data"
    }
   ],
   "source": [
    "pKtt1 = -Rd * K0 * beta * Rigidity * Be * pow(r, 2) * (Symbol('C_{K\\\\theta\\\\theta}') / (3 * abs(A) * pow(S('C_B'), 3/2) ))\n",
    "\n",
    "display(Eq(Symbol('pK_{\\\\theta\\\\theta1}'), pKtt1, evaluate=False))"
   ]
  },
  {
   "cell_type": "markdown",
   "id": "0e97eb91-9730-4ccc-92ab-753708cfac84",
   "metadata": {},
   "source": [
    "<a id=\"39\"></a>\n",
    "##### Equation 39:"
   ]
  },
  {
   "cell_type": "code",
   "execution_count": 24,
   "id": "d675cbb8-074a-4713-820b-3803ac5102e0",
   "metadata": {
    "jupyter": {
     "source_hidden": true
    },
    "tags": []
   },
   "outputs": [
    {
     "data": {
      "text/latex": [
       "$\\displaystyle pK_{\\theta\\theta2} = \\frac{B_{e} C_{\\delta}^{2} K_{0} P \\beta r^{4} \\cdot \\left(1 - R_{d}\\right)}{r_{sun}^{2}}$"
      ],
      "text/plain": [
       "Eq(pK_{\\theta\\theta2}, B_e*C_{\\delta}**2*K_{0}*P*beta*r**4*(1 - R_d)/r_sun**2)"
      ]
     },
     "metadata": {},
     "output_type": "display_data"
    }
   ],
   "source": [
    "pKtt2 = (1 - Rd) * K0 * beta * Rigidity * Be * (pow(r, 4) * pow(Cdelta, 2)) / (pow(r_sun, 2))\n",
    "\n",
    "display(Eq(Symbol('pK_{\\\\theta\\\\theta2}'), pKtt2, evaluate=False))"
   ]
  },
  {
   "cell_type": "markdown",
   "id": "5ad12a01-ac82-4279-9fd5-89f1471d5eb8",
   "metadata": {},
   "source": [
    "<a id=\"40\"></a>\n",
    "##### Equation 40:"
   ]
  },
  {
   "cell_type": "code",
   "execution_count": 25,
   "id": "d3ab27d1-7fdb-4eab-8a53-e36a88a4f8ad",
   "metadata": {
    "jupyter": {
     "source_hidden": true
    },
    "tags": []
   },
   "outputs": [
    {
     "data": {
      "text/latex": [
       "$\\displaystyle pK_{\\theta\\theta3} = \\begin{cases} 0 & \\text{for}\\: \\theta > 178.3 \\wedge \\theta < 1.7 \\\\- \\frac{2 \\cos{\\left(\\theta \\right)}}{3 C_{B}^{1.5} \\sin^{3}{\\left(\\theta \\right)} \\left|{A}\\right|} & \\text{otherwise} \\end{cases}$"
      ],
      "text/plain": [
       "Eq(pK_{\\theta\\theta3}, Piecewise((0, (theta > 178.3) & (theta < 1.7)), (-2*cos(theta)/(3*C_B**1.5*sin(theta)**3*Abs(A)), True)))"
      ]
     },
     "metadata": {},
     "output_type": "display_data"
    }
   ],
   "source": [
    "pKtt3 = Piecewise((0, And(theta < 1.7, theta > 178.3)), ((-2 * (sp.cos(theta) / pow(sp.sin(theta), 3))) / (3 * abs(A) * pow(S('C_B'), 3/2)), True))\n",
    "\n",
    "display(Eq(Symbol('pK_{\\\\theta\\\\theta3}'), pKtt3, evaluate=False))"
   ]
  },
  {
   "cell_type": "markdown",
   "id": "cf676a9d-9846-4fb5-a8f5-350648a5459d",
   "metadata": {},
   "source": [
    "<a id=\"41\"></a>\n",
    "##### Equation 41:"
   ]
  },
  {
   "cell_type": "code",
   "execution_count": 26,
   "id": "a749fd62-9b1e-4f1c-89fd-ee11922d9959",
   "metadata": {
    "jupyter": {
     "source_hidden": true
    },
    "tags": []
   },
   "outputs": [
    {
     "data": {
      "text/latex": [
       "$\\displaystyle pK_{\\theta\\theta4} = \\begin{cases} \\frac{3 C_{K\\theta\\theta}}{C_{B}^{2.5}} & \\text{for}\\: \\theta > 178.3 \\wedge \\theta < 1.7 \\\\\\frac{C_{K\\theta\\theta}}{C_{B}^{2.5} \\sin^{2}{\\left(\\theta \\right)} \\left|{A}\\right|} & \\text{otherwise} \\end{cases}$"
      ],
      "text/plain": [
       "Eq(pK_{\\theta\\theta4}, Piecewise((3*C_{K\\theta\\theta}/C_B**2.5, (theta > 178.3) & (theta < 1.7)), (C_{K\\theta\\theta}/(C_B**2.5*sin(theta)**2*Abs(A)), True)))"
      ]
     },
     "metadata": {},
     "output_type": "display_data"
    }
   ],
   "source": [
    "pKtt4 = Piecewise(( (3 * Symbol('C_{K\\\\theta\\\\theta}')) / pow(S('C_B'), 5/2), And(theta < 1.7, theta > 178.3)), ((3 * (Symbol('C_{K\\\\theta\\\\theta}') / pow(sp.sin(theta),2)))/(3 * abs(A) * pow(S('C_B'), 5/2)), True))\n",
    "\n",
    "display(Eq(Symbol('pK_{\\\\theta\\\\theta4}'), pKtt4, evaluate=False))"
   ]
  },
  {
   "cell_type": "markdown",
   "id": "5106f736-93a6-4126-a7f2-9b28af658ca4",
   "metadata": {},
   "source": [
    "then ∂Kθθ/∂θ is equal\n"
   ]
  },
  {
   "cell_type": "markdown",
   "id": "c02a5f82-5aac-40de-a902-ca87979f82c8",
   "metadata": {},
   "source": [
    "<a id=\"42\"></a>\n",
    "##### Equation 42:"
   ]
  },
  {
   "cell_type": "code",
   "execution_count": 27,
   "id": "158fe155-225a-4ece-a6b9-e940a5303e8a",
   "metadata": {
    "jupyter": {
     "source_hidden": true
    },
    "tags": []
   },
   "outputs": [
    {
     "data": {
      "text/latex": [
       "$\\displaystyle \\frac{∂K_{\\theta\\theta}}{∂\\theta} = pK_{\\theta\\theta1} + pK_{\\theta\\theta2} \\left(pK_{\\theta\\theta3} - pK_{\\theta\\theta4}\\right)$"
      ],
      "text/plain": [
       "Eq(\\frac{∂K_{\\theta\\theta}}{∂\\theta}, pK_{\\theta\\theta1} + pK_{\\theta\\theta2}*(pK_{\\theta\\theta3} - pK_{\\theta\\theta4}))"
      ]
     },
     "metadata": {},
     "output_type": "display_data"
    }
   ],
   "source": [
    "dKttt = Symbol('pK_{\\\\theta\\\\theta1}') + Symbol('pK_{\\\\theta\\\\theta2}') * (Symbol('pK_{\\\\theta\\\\theta3}') - Symbol('pK_{\\\\theta\\\\theta4}'))\n",
    "\n",
    "display(Eq(Symbol('\\\\frac{∂K_{\\\\theta\\\\theta}}{∂\\\\theta}'), dKttt, evaluate=False))"
   ]
  },
  {
   "cell_type": "markdown",
   "id": "907933a8-bf8c-4c4f-98b6-48fee73e4016",
   "metadata": {},
   "source": [
    "The other diffusion tensor derivatives are"
   ]
  },
  {
   "cell_type": "markdown",
   "id": "2928d56c-2311-4406-8ef7-75678d3ea047",
   "metadata": {},
   "source": [
    "<a id=\"43\"></a>\n",
    "##### Equation 43:"
   ]
  },
  {
   "cell_type": "code",
   "execution_count": 28,
   "id": "4479bd29-70c8-4f1c-9191-8824961b2dca",
   "metadata": {
    "jupyter": {
     "source_hidden": true
    },
    "tags": []
   },
   "outputs": [
    {
     "data": {
      "text/latex": [
       "$\\displaystyle \\frac{∂K_{r\\theta}}{∂r} = \\frac{B_{e} C_{\\delta} K_{0} P \\beta r^{2} \\cdot \\left(1 - R_{d}\\right)}{C_{B}^{2.5} r_{sun} \\sin{\\left(\\theta \\right)} \\left|{A}\\right|}$"
      ],
      "text/plain": [
       "Eq(\\frac{∂K_{r\\theta}}{∂r}, B_e*C_{\\delta}*K_{0}*P*beta*r**2*(1 - R_d)/(C_B**2.5*r_sun*sin(theta)*Abs(A)))"
      ]
     },
     "metadata": {},
     "output_type": "display_data"
    }
   ],
   "source": [
    "dKrtr = (1 - Rd) * K0 * beta * Rigidity * Be * (Cdelta * 3 * pow(r, 2)) / (3 * abs(A) * r_sun * sp.sin(theta) * pow(S('C_B'), 5/2))\n",
    "\n",
    "display(Eq(Symbol('\\\\frac{∂K_{r\\\\theta}}{∂r}'), dKrtr, evaluate=False))"
   ]
  },
  {
   "cell_type": "markdown",
   "id": "492ef0a5-4297-43ba-84bc-408072252a4e",
   "metadata": {},
   "source": [
    "<a id=\"44\"></a>\n",
    "##### Equation 44:"
   ]
  },
  {
   "cell_type": "code",
   "execution_count": 29,
   "id": "8d40d349-77b6-4042-b81d-fd4ed19217fc",
   "metadata": {
    "jupyter": {
     "source_hidden": true
    },
    "tags": []
   },
   "outputs": [
    {
     "data": {
      "text/latex": [
       "$\\displaystyle \\frac{∂K_{r\\theta}}{∂\\theta} = \\frac{B_{e} K_{0} P \\beta r^{3} \\left(R_{d} - 1\\right) \\left(- \\frac{2 \\delta^{2} r^{2}}{4 \\Gamma^{2} + r_{sun}^{2}} + 1\\right) \\cos{\\left(\\theta \\right)}}{3 C_{B}^{2.5} r_{sun} \\sin^{2}{\\left(\\theta \\right)} \\left|{A}\\right|}$"
      ],
      "text/plain": [
       "Eq(\\frac{∂K_{r\\theta}}{∂\\theta}, B_e*K_{0}*P*beta*r**3*(R_d - 1)*(-2*delta**2*r**2/(4*Gamma**2 + r_sun**2) + 1)*cos(theta)/(3*C_B**2.5*r_sun*sin(theta)**2*Abs(A)))"
      ]
     },
     "metadata": {},
     "output_type": "display_data"
    }
   ],
   "source": [
    "dKrtt = - (1 - Rd) * K0 * beta * Rigidity * Be * (pow(r, 3) * sp.cos(theta)) / (3 * abs(A) * r_sun * pow(sp.sin(theta), 2) * pow(S('C_B'), 5/2)) * (1 - (2 * pow(r, 2) * pow(S('delta'), 2)) / (pow(r_sun, 2) + 4 * pow(S('Gamma'), 2)))\n",
    "\n",
    "display(Eq(Symbol('\\\\frac{∂K_{r\\\\theta}}{∂\\\\theta}'), dKrtt, evaluate=False))"
   ]
  },
  {
   "cell_type": "code",
   "execution_count": null,
   "id": "43d7ef26-6644-4dd6-bda9-a7579c4eca5b",
   "metadata": {
    "jupyter": {
     "source_hidden": true
    }
   },
   "outputs": [],
   "source": []
  }
 ],
 "metadata": {
  "kernelspec": {
   "display_name": "Python 3 (ipykernel)",
   "language": "python",
   "name": "python3"
  },
  "language_info": {
   "codemirror_mode": {
    "name": "ipython",
    "version": 3
   },
   "file_extension": ".py",
   "mimetype": "text/x-python",
   "name": "python",
   "nbconvert_exporter": "python",
   "pygments_lexer": "ipython3",
   "version": "3.10.11"
  }
 },
 "nbformat": 4,
 "nbformat_minor": 5
}
