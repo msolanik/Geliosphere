{
 "cells": [
  {
   "cell_type": "markdown",
   "id": "1d60f57a-f977-4434-9083-e565ef28759c",
   "metadata": {},
   "source": [
    "# Description of 1D Models"
   ]
  },
  {
   "cell_type": "markdown",
   "id": "41e34ace-0cda-4761-96a4-15f7b494d0f2",
   "metadata": {},
   "source": [
    "Geliosphere also contains 1D models: 1D forward-in-time with momentum p\n",
    "and 1D backward-in-time with momentum p. These models are both based on\n",
    "[Bobik et al., 2016](https://doi.org/10.1002/2015JA022237). \n",
    "\n",
    "These 1D models use the same equations for calculating particle velocity (Equation 5), rigidity (Equation 6) \n",
    "and simplified diffusion tensor $K$ (Equation 7).\n",
    "\n",
    "Following code represents initial setup required for steps in this notebook:"
   ]
  },
  {
   "cell_type": "code",
   "execution_count": 1,
   "id": "89b1f46b-431f-46a1-9109-d86ed3b72fce",
   "metadata": {
    "jupyter": {
     "source_hidden": true
    }
   },
   "outputs": [],
   "source": [
    "import math \n",
    "import sympy as sp\n",
    "from sympy import symbols\n",
    "from sympy import *\n",
    "from IPython.display import display, Latex, display_latex, Math\n",
    "\n",
    "beta = symbols(\"β\")\n",
    "Rigidity = symbols(\"P\")\n",
    "Tkin = symbols(\"T_{kin}\")\n",
    "T0 = symbols(\"T_{0}\")\n",
    "K0 = symbols(\"K_{0}\")\n",
    "Kdiff = symbols(\"K_{diff}\")\n",
    "r = symbols(\"r\")\n",
    "dt = symbols(\"dt\")\n",
    "dW = symbols(\"dW\")\n",
    "\n",
    "drfp = symbols(\"dr_{F - p}\")\n",
    "dpfp = symbols(\"dp_{F - p}\")\n",
    "lfp = symbols(\"L_{F - p}\")\n",
    "\n",
    "drbp = symbols(\"dr_{B - p}\")\n",
    "dpbp = symbols(\"dp_{B - p}\")\n",
    "lbp = symbols(\"L_{B - p}\")\n",
    "\n",
    "t = symbols('t')\n",
    "i, j = symbols('i j', integer=True)\n",
    "A_Fi = symbols('A_Fi')  # A_{F,i}\n",
    "B_Fij = symbols('B_Fij') # B_{F,i,j}\n",
    "dWj = Function('dW_j')(t)  # dW_j(t)\n",
    "s = symbols('s')\n",
    "A_Bi = symbols('A_Bi')\n",
    "B_Bij = symbols('B_Bij')\n",
    "ds = symbols('ds')  \n",
    "dWjs = Function('dW_j')(s)\n",
    "\n",
    "x_i = Function('x_i')(t)\n",
    "y_i = Function('y_i')(s)\n",
    "dx_i = Derivative(x_i, t) \n",
    "dy_i = Derivative(y_i, s)  \n",
    "\n",
    "particle_momentum = Symbol('p', constant=True, number=True)\n",
    "speed_of_light = Symbol('c', constant=True, number=True)\n",
    "fundemental_energy = Symbol('q', constant=True, number=True)\n",
    "Vsw = Symbol('V_{SW}', constant=True, number=True)"
   ]
  },
  {
   "cell_type": "markdown",
   "id": "1a0922ca-6b43-46fc-9dbe-49fef13a270b",
   "metadata": {},
   "source": [
    "Particle velocity in light speed units is defined as follows:\n"
   ]
  },
  {
   "cell_type": "markdown",
   "id": "cca0c6ee-5b76-41f4-a24c-321545c760e9",
   "metadata": {},
   "source": [
    "<a id=\"5\"></a>\n",
    "##### Equation 5"
   ]
  },
  {
   "cell_type": "code",
   "execution_count": 2,
   "id": "5396da87-fdfa-4aea-9f9a-7d553e9e8185",
   "metadata": {
    "jupyter": {
     "source_hidden": true
    }
   },
   "outputs": [
    {
     "data": {
      "text/latex": [
       "$\\displaystyle β = \\frac{\\sqrt{T_{kin} \\left(2 T_{0} + T_{kin}\\right)}}{T_{0} + T_{kin}}$"
      ],
      "text/plain": [
       "Eq(β, sqrt(T_{kin}*(2*T_{0} + T_{kin}))/(T_{0} + T_{kin}))"
      ]
     },
     "metadata": {},
     "output_type": "display_data"
    }
   ],
   "source": [
    "beta = sp.sqrt(Tkin * (Tkin + 2 * T0)) / (Tkin + T0)\n",
    "\n",
    "display(Eq(S('β'),beta))"
   ]
  },
  {
   "cell_type": "markdown",
   "id": "1e086be7-8ba3-4cbf-91ce-03aa0d87ee03",
   "metadata": {},
   "source": [
    "where $T_{kin}$ is kinetic energy of particle and $T_0$ is rest energy.\n",
    "\n",
    "Rigidity is defined as follows:"
   ]
  },
  {
   "cell_type": "markdown",
   "id": "2e51e275-7318-4801-8527-20c0f2f39057",
   "metadata": {},
   "source": [
    "<a id=\"6\"></a>\n",
    "##### Equation 6"
   ]
  },
  {
   "cell_type": "code",
   "execution_count": 3,
   "id": "5cea48fc-4e0b-41dc-9a7f-7bf847517880",
   "metadata": {
    "jupyter": {
     "source_hidden": true
    }
   },
   "outputs": [
    {
     "data": {
      "text/latex": [
       "$\\displaystyle P = \\frac{c p}{q}$"
      ],
      "text/plain": [
       "Eq(P, c*p/q)"
      ]
     },
     "metadata": {},
     "output_type": "display_data"
    }
   ],
   "source": [
    "Rigidity = (particle_momentum * speed_of_light) / fundemental_energy\n",
    "\n",
    "display(Eq(S('P'),Rigidity))"
   ]
  },
  {
   "cell_type": "markdown",
   "id": "2457e96a-3f97-40d5-923e-b238f628d0c1",
   "metadata": {},
   "source": [
    "where $p$ is particle momentum, $q$ is fundamental elementary charge and $c$ is\r\n",
    "speed of light\n",
    "\n",
    "Simplified diffusion tensor $K$ is defined as follows:."
   ]
  },
  {
   "cell_type": "markdown",
   "id": "43571129-6867-4041-a3fe-7b364bb54a3d",
   "metadata": {},
   "source": [
    "<a id=\"7\"></a>\n",
    "##### Equation 7"
   ]
  },
  {
   "cell_type": "code",
   "execution_count": 4,
   "id": "161526ed-4d10-4a7d-bbc7-4e382da65e2f",
   "metadata": {
    "jupyter": {
     "source_hidden": true
    }
   },
   "outputs": [
    {
     "data": {
      "text/latex": [
       "$\\displaystyle K_{diff} = K_{0} P β$"
      ],
      "text/plain": [
       "Eq(K_diff, K_{0}*P*β)"
      ]
     },
     "metadata": {},
     "output_type": "display_data"
    }
   ],
   "source": [
    "Kdiff = K0 * S('β') * S('P')\n",
    "\n",
    "display(Eq(S('K_diff'),Kdiff))"
   ]
  },
  {
   "cell_type": "markdown",
   "id": "fd14aefa-03eb-4cc5-9d57-439f77b79285",
   "metadata": {},
   "source": [
    "## 1D Forward-in-time with momentum p"
   ]
  },
  {
   "cell_type": "markdown",
   "id": "9ce6a691-91f8-4902-9c34-fe9e2e324580",
   "metadata": {},
   "source": [
    "The Stochastic approach allows to reevaluate the diffusion process by mean of\r\n",
    "a set of stochastic differential equations for forward-in-time as:"
   ]
  },
  {
   "cell_type": "markdown",
   "id": "b3b56738-38e9-4d37-8efa-8c77b46917b6",
   "metadata": {},
   "source": [
    "<a id=\"8\"></a>\n",
    "##### Equation 8"
   ]
  },
  {
   "cell_type": "code",
   "execution_count": 5,
   "id": "c5117817-a6b4-412e-836f-9c4450065813",
   "metadata": {
    "jupyter": {
     "source_hidden": true
    }
   },
   "outputs": [
    {
     "data": {
      "text/latex": [
       "$\\displaystyle \\frac{d}{d t} x_{i}{\\left(t \\right)} = A_{Fi} dt + B_{Fij} \\operatorname{dW}_{j}{\\left(t \\right)}$"
      ],
      "text/plain": [
       "Eq(Derivative(x_i(t), t), A_Fi*dt + B_Fij*dW_j(t))"
      ]
     },
     "metadata": {},
     "output_type": "display_data"
    }
   ],
   "source": [
    "display(Eq(dx_i, A_Fi * dt + B_Fij * dWj))"
   ]
  },
  {
   "cell_type": "markdown",
   "id": "b1ddf50c-3c33-47c8-aadb-e4125e966ca1",
   "metadata": {},
   "source": [
    "Where $F$ denotes forward in time method. The following set of stochastic\r\n",
    "differential equations represents equations associated with forward integration with\r\n",
    "momentu$m$ p:"
   ]
  },
  {
   "cell_type": "markdown",
   "id": "0fe8a001-8f33-4444-a59a-78cf12543468",
   "metadata": {},
   "source": [
    "<a id=\"9\"></a>\n",
    "##### Equation 9"
   ]
  },
  {
   "cell_type": "code",
   "execution_count": 6,
   "id": "baeed68d-9f96-4498-9b2e-b9e6e5fed159",
   "metadata": {
    "jupyter": {
     "source_hidden": true
    }
   },
   "outputs": [
    {
     "data": {
      "text/latex": [
       "$\\displaystyle dr_{F - p} = \\sqrt{2} \\sqrt{K_{diff}} dW + dt \\left(\\frac{2 K_{diff}}{r} + V_{SW}\\right)$"
      ],
      "text/plain": [
       "Eq(dr_{F - p}, sqrt(2)*sqrt(K_diff)*dW + dt*(2*K_diff/r + V_{SW}))"
      ]
     },
     "metadata": {},
     "output_type": "display_data"
    }
   ],
   "source": [
    "drfp = ((2 * S('K_diff')) / r + Vsw) * dt + sp.sqrt(2 * S('K_diff')) * dW\n",
    "\n",
    "display(Eq(Symbol('dr_{F - p}'),drfp))"
   ]
  },
  {
   "cell_type": "markdown",
   "id": "9057552c-e4c6-4371-9e73-ba9f6894df9b",
   "metadata": {},
   "source": [
    "<a id=\"10\"></a>\n",
    "##### Equation 10"
   ]
  },
  {
   "cell_type": "code",
   "execution_count": 7,
   "id": "acff17b8-0eea-4460-bd07-f1c678c742d2",
   "metadata": {
    "jupyter": {
     "source_hidden": true
    }
   },
   "outputs": [
    {
     "data": {
      "text/latex": [
       "$\\displaystyle dp_{F - p} = - \\frac{2 V_{SW} dt p}{3 r}$"
      ],
      "text/plain": [
       "Eq(dp_{F - p}, -2*V_{SW}*dt*p/(3*r))"
      ]
     },
     "metadata": {},
     "output_type": "display_data"
    }
   ],
   "source": [
    "dpfp = - ((2 * Vsw * particle_momentum) / (3 * r)) * dt\n",
    "\n",
    "display(Eq(Symbol('dp_{F - p}'),dpfp))"
   ]
  },
  {
   "cell_type": "markdown",
   "id": "cb6a32f9-b587-4ae6-8849-5b6658a6875e",
   "metadata": {},
   "source": [
    "<a id=\"11\"></a>\n",
    "##### Equation 11"
   ]
  },
  {
   "cell_type": "code",
   "execution_count": 8,
   "id": "525ce212-d7c7-4f5b-bb20-e4e07820060b",
   "metadata": {
    "jupyter": {
     "source_hidden": true
    }
   },
   "outputs": [
    {
     "data": {
      "text/latex": [
       "$\\displaystyle L_{F - p} = - \\frac{4 V_{SW}}{3 r}$"
      ],
      "text/plain": [
       "Eq(L_{F - p}, -4*V_{SW}/(3*r))"
      ]
     },
     "metadata": {},
     "output_type": "display_data"
    }
   ],
   "source": [
    "lfp = - ((4 * Vsw) / (3 * r))\n",
    "\n",
    "display(Eq(Symbol('L_{F - p}'),lfp))"
   ]
  },
  {
   "cell_type": "markdown",
   "id": "96511a77-833c-4f3c-a6a0-f52f6d3bdc9e",
   "metadata": {},
   "source": [
    "where $L_{F − p}$ describes so called (catastrophic) “losses” term [Strauss et al., 2011](https://doi.org/10.1088/0004-637X/735/2/83), $V_{SW}$ is solar\n",
    "wind velocity and $dt$  > 0 represents a propagation forward-in-time."
   ]
  },
  {
   "cell_type": "markdown",
   "id": "5df5e694-8aca-4c34-a523-46e9023ac5a8",
   "metadata": {},
   "source": [
    "## 1D Backward-in-time with momentum p"
   ]
  },
  {
   "cell_type": "markdown",
   "id": "d8c6ec3f-03f6-46e8-ac0e-358af6fbea63",
   "metadata": {},
   "source": [
    "The Stochastic approach allows us to reevaluate the diffusion process by mean\r\n",
    "of a set of stochastic differential equations for backward-in-time as:\r"
   ]
  },
  {
   "cell_type": "code",
   "execution_count": 11,
   "id": "1f1c5bd3-62cf-48b2-9df9-f17f8c8409e4",
   "metadata": {
    "jupyter": {
     "source_hidden": true
    }
   },
   "outputs": [
    {
     "data": {
      "text/latex": [
       "$\\displaystyle \\frac{d}{d s} y_{i}{\\left(s \\right)} = A_{Bi} ds + B_{Bij} \\operatorname{dW}_{j}{\\left(s \\right)}$"
      ],
      "text/plain": [
       "Eq(Derivative(y_i(s), s), A_Bi*ds + B_Bij*dW_j(s))"
      ]
     },
     "metadata": {},
     "output_type": "display_data"
    }
   ],
   "source": [
    "display(Eq(dy_i, A_Bi * ds + B_Bij * dWjs))"
   ]
  },
  {
   "cell_type": "markdown",
   "id": "57104e13-1f91-4a7c-903b-152fc281cda5",
   "metadata": {},
   "source": [
    "where subscript B denotes backward in time method. The following set of\n",
    "stochastic differential equations represent equations associated with backward integration with momentum p:"
   ]
  },
  {
   "cell_type": "markdown",
   "id": "962fff7a-4f0b-4a35-88e0-bcbaa8685380",
   "metadata": {},
   "source": [
    "<a id=\"12\"></a>\n",
    "##### Equation 12"
   ]
  },
  {
   "cell_type": "code",
   "execution_count": 15,
   "id": "660448ae-9c13-48ab-b6df-aa4fe8e71268",
   "metadata": {
    "jupyter": {
     "source_hidden": true
    }
   },
   "outputs": [
    {
     "data": {
      "text/latex": [
       "$\\displaystyle dr_{B - p} = \\sqrt{2} \\sqrt{K_{diff}} dW + dt \\left(\\frac{2 K_{diff}}{r} - V_{SW}\\right)$"
      ],
      "text/plain": [
       "Eq(dr_{B - p}, sqrt(2)*sqrt(K_diff)*dW + dt*(2*K_diff/r - V_{SW}))"
      ]
     },
     "metadata": {},
     "output_type": "display_data"
    }
   ],
   "source": [
    "drbp = ((2 * S('K_diff')) / r - Vsw) * dt + sp.sqrt(2 * S('K_diff')) * dW\n",
    "\n",
    "display(Eq(Symbol('dr_{B - p}'),drbp))"
   ]
  },
  {
   "cell_type": "markdown",
   "id": "b8e2ada4-5417-44f7-9271-47ef6834e147",
   "metadata": {},
   "source": [
    "<a id=\"13\"></a>\n",
    "##### Equation 13"
   ]
  },
  {
   "cell_type": "code",
   "execution_count": 13,
   "id": "ebb89a75-d306-4d5a-9ef0-353cfb87f1d3",
   "metadata": {
    "jupyter": {
     "source_hidden": true
    }
   },
   "outputs": [
    {
     "data": {
      "text/latex": [
       "$\\displaystyle dp_{B - p} = \\frac{2 V_{SW} ds p}{3 r}$"
      ],
      "text/plain": [
       "Eq(dp_{B - p}, 2*V_{SW}*ds*p/(3*r))"
      ]
     },
     "metadata": {},
     "output_type": "display_data"
    }
   ],
   "source": [
    "dpbp = ((2 * Vsw * particle_momentum) / (3 * r)) * ds\n",
    "\n",
    "display(Eq(Symbol('dp_{B - p}'),dpbp))"
   ]
  },
  {
   "cell_type": "markdown",
   "id": "0b67bc2c-9866-40fc-81f2-408275755914",
   "metadata": {},
   "source": [
    "<a id=\"14\"></a>\n",
    "##### Equation 14"
   ]
  },
  {
   "cell_type": "code",
   "execution_count": 14,
   "id": "4e245012-a691-4cf6-b7c1-69e1227f55ac",
   "metadata": {
    "jupyter": {
     "source_hidden": true
    }
   },
   "outputs": [
    {
     "data": {
      "text/latex": [
       "$\\displaystyle L_{B - p} = 0$"
      ],
      "text/plain": [
       "Eq(L_{B - p}, 0)"
      ]
     },
     "metadata": {},
     "output_type": "display_data"
    }
   ],
   "source": [
    "lbp = 0\n",
    "\n",
    "display(Eq(Symbol('L_{B - p}'),lbp))"
   ]
  },
  {
   "cell_type": "markdown",
   "id": "6632a380-710f-4ecc-a10d-45afe3ca98d9",
   "metadata": {},
   "source": [
    "where, where $L_{B − p}$ describes so called (catastrophic) “losses” term, $ds$ > 0\r\n",
    "represents a propagation backward-in-time."
   ]
  }
 ],
 "metadata": {
  "kernelspec": {
   "display_name": "Python 3 (ipykernel)",
   "language": "python",
   "name": "python3"
  },
  "language_info": {
   "codemirror_mode": {
    "name": "ipython",
    "version": 3
   },
   "file_extension": ".py",
   "mimetype": "text/x-python",
   "name": "python",
   "nbconvert_exporter": "python",
   "pygments_lexer": "ipython3",
   "version": "3.11.6"
  }
 },
 "nbformat": 4,
 "nbformat_minor": 5
}
