{
 "cells": [
  {
   "cell_type": "markdown",
   "id": "a0e83bb0-43ca-4347-9ee0-4c11180fdaf6",
   "metadata": {},
   "source": [
    "# Description of 1D Models\n",
    "Geliosphere also contains 1D models: 1D forward-in-time with momentum p\r\n",
    "and 1D backward-in-time with momentum p. These models are both based on\r\n",
    "[16\n",
    "].\r\n",
    "These 1D models use the same equations for calculating particle velocity (Equation 5), rigidity (Equation 6) and simplified diffusion tensor K (Equation 7).\r\n",
    "Particle velocity in light speed units is defined as folls. \n",
    "\n",
    "Following code represents initial setup required for steps in this notebook:"
   ]
  },
  {
   "cell_type": "code",
   "execution_count": 1,
   "id": "89b1f46b-431f-46a1-9109-d86ed3b72fce",
   "metadata": {},
   "outputs": [],
   "source": [
    "import math \n",
    "import sympy as sp\n",
    "from sympy import symbols\n",
    "from sympy import *\n",
    "from IPython.display import display, Latex, display_latex, Math\n",
    "\n",
    "beta = symbols(\"beta\")\n",
    "Rigidity = symbols(\"P\")"
   ]
  },
  {
   "cell_type": "code",
   "execution_count": null,
   "id": "375132e8-2049-4510-ad5b-2c987e179aa3",
   "metadata": {},
   "outputs": [],
   "source": []
  }
 ],
 "metadata": {
  "kernelspec": {
   "display_name": "Python 3 (ipykernel)",
   "language": "python",
   "name": "python3"
  },
  "language_info": {
   "codemirror_mode": {
    "name": "ipython",
    "version": 3
   },
   "file_extension": ".py",
   "mimetype": "text/x-python",
   "name": "python",
   "nbconvert_exporter": "python",
   "pygments_lexer": "ipython3",
   "version": "3.11.6"
  }
 },
 "nbformat": 4,
 "nbformat_minor": 5
}
